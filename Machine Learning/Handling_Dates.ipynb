{
  "nbformat": 4,
  "nbformat_minor": 0,
  "metadata": {
    "colab": {
      "name": "Handling Dates.ipynb",
      "provenance": [],
      "collapsed_sections": []
    },
    "kernelspec": {
      "name": "python3",
      "display_name": "Python 3"
    }
  },
  "cells": [
    {
      "cell_type": "code",
      "metadata": {
        "id": "6IgadiOrENG4"
      },
      "source": [
        "total_df['date'] = pd.to_datetime(total_df.date, format='%Y-%m-%d')"
      ],
      "execution_count": 1,
      "outputs": []
    },
    {
      "cell_type": "code",
      "metadata": {
        "id": "nxRALzNjOATm"
      },
      "source": [
        "total_df['year'] = total_df['date'].dt.year\r\n",
        "total_df['month'] = total_df['date'].dt.month\r\n",
        "total_df['week'] = total_df['date'].dt.week\r\n",
        "total_df['Day'] = total_df['date'].dt.day\r\n",
        "total_df['dayofweek'] = total_df['date'].dt.dayofweek"
      ],
      "execution_count": null,
      "outputs": []
    }
  ]
}