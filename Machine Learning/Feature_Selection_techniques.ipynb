{
  "nbformat": 4,
  "nbformat_minor": 0,
  "metadata": {
    "colab": {
      "name": "Feature_Selection_techniques.ipynb",
      "provenance": [],
      "collapsed_sections": []
    },
    "kernelspec": {
      "name": "python3",
      "display_name": "Python 3"
    }
  },
  "cells": [
    {
      "cell_type": "markdown",
      "metadata": {
        "id": "vz_7cAKfDbVX"
      },
      "source": [
        "# K best with Chi-2 and f-distribution"
      ]
    },
    {
      "cell_type": "code",
      "metadata": {
        "id": "n_JBmgSbC_4c"
      },
      "source": [
        "from sklearn.model_selection import cross_val_score, RepeatedKFold, RepeatedStratifiedKFold,KFold\r\n",
        "from sklearn.feature_selection import SelectKBest,chi2,f_regression\r\n",
        "import matplotlib.pyplot as plt\r\n",
        "import seaborn as sns\r\n",
        "\r\n"
      ],
      "execution_count": 5,
      "outputs": []
    },
    {
      "cell_type": "code",
      "metadata": {
        "id": "-rp1sLLPDuJ8"
      },
      "source": [
        "def Generate_K_best_curve(model, cv_fold, num_feats_total, function, X_train, Y, Scoring_function):\r\n",
        "  # Model: The Model that can be used as an estimator to generate CV score.\r\n",
        "  # cv_fold: int type indicates number of folds.\r\n",
        "  # num_feats_total: Total number of features.\r\n",
        "  # function: A function that estimates the relation between features.\r\n",
        "  # X_train: Training Set.\r\n",
        "  # Y : Target variable.\r\n",
        "  # scoring_function: Custom_metric\r\n",
        "\r\n",
        "  k_nums=list(range(1,int(num_feats_total)))\r\n",
        "  scores=[]\r\n",
        "  for ks in k_nums:\r\n",
        "    kbest = SelectKBest(function, k=ks).fit_transform(X_train,Y)\r\n",
        "    acus=cross_val_score(estimator=model,X=kbest,y=Y,scoring=Scoring_function,cv=cv_fold)\r\n",
        "    score=acus.mean()\r\n",
        "    scores.append(score)\r\n",
        "\r\n",
        "  fig=plt.figure(figsize=(15,10))\r\n",
        "  plt.plot(k_nums,scores,'b')\r\n",
        "  plt.xlabel('No. of features')\r\n",
        "  plt.ylabel('Score')\r\n",
        "  return scores"
      ],
      "execution_count": 1,
      "outputs": []
    },
    {
      "cell_type": "code",
      "metadata": {
        "id": "YUKiA9UODuQE"
      },
      "source": [
        "def Imp_feats_kbest(n_feats, function, X_train, Y):\r\n",
        "  feat_selector = SelectKBest(function, k=n_feats)\r\n",
        "  feat_selector.fit(X_train, Y)\r\n",
        "  kbestcols = feat_selector.get_support(indices=True)\r\n",
        "  imp_features = X_train.iloc[:,kbestcols].columns\r\n",
        "  return imp_features"
      ],
      "execution_count": 3,
      "outputs": []
    },
    {
      "cell_type": "code",
      "metadata": {
        "id": "mM2yvYSyDvPP"
      },
      "source": [
        ""
      ],
      "execution_count": null,
      "outputs": []
    },
    {
      "cell_type": "markdown",
      "metadata": {
        "id": "Itc7PQMBICWV"
      },
      "source": [
        "# Forward Feat Selection"
      ]
    },
    {
      "cell_type": "code",
      "metadata": {
        "id": "i2rcdihCDwKy"
      },
      "source": [
        "from mlxtend.feature_selection import SequentialFeatureSelector as SFS\r\n",
        "cv_5 = RepeatedKFold(n_splits=5, random_state=42)\r\n",
        "e=2.7182818284590452353602874713527"
      ],
      "execution_count": 6,
      "outputs": []
    },
    {
      "cell_type": "code",
      "metadata": {
        "id": "5XeamBCAIFwx"
      },
      "source": [
        "forward_seqselector = SFS(model, scoring=score_metric,verbose=2, k_features=N_feats, forward=True,cv=cv_fold)\r\n",
        "forward_seqselector.fit(X_train,Y,custom_feature_names=list(X_train.columns))"
      ],
      "execution_count": null,
      "outputs": []
    },
    {
      "cell_type": "code",
      "metadata": {
        "id": "QVNsoEomIF1w"
      },
      "source": [
        ""
      ],
      "execution_count": null,
      "outputs": []
    },
    {
      "cell_type": "code",
      "metadata": {
        "id": "K1oSE3E2IF8p"
      },
      "source": [
        ""
      ],
      "execution_count": null,
      "outputs": []
    },
    {
      "cell_type": "code",
      "metadata": {
        "id": "005DzOqFIGCq"
      },
      "source": [
        ""
      ],
      "execution_count": null,
      "outputs": []
    },
    {
      "cell_type": "code",
      "metadata": {
        "id": "1hPLqO51IGMn"
      },
      "source": [
        ""
      ],
      "execution_count": null,
      "outputs": []
    },
    {
      "cell_type": "code",
      "metadata": {
        "id": "b-G02xBHIGT_"
      },
      "source": [
        ""
      ],
      "execution_count": null,
      "outputs": []
    }
  ]
}