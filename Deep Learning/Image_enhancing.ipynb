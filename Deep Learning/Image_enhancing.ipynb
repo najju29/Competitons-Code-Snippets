{
  "nbformat": 4,
  "nbformat_minor": 0,
  "metadata": {
    "colab": {
      "name": "Image_enhancing.ipynb",
      "provenance": [],
      "collapsed_sections": []
    },
    "kernelspec": {
      "name": "python3",
      "display_name": "Python 3"
    }
  },
  "cells": [
    {
      "cell_type": "code",
      "metadata": {
        "id": "DchADuXyJzoA"
      },
      "source": [
        "import random                           # Generates random numbers\r\n",
        "import sys, os, glob, shutil                              # Create directories, list files\r\n",
        "from shutil import copyfile             # Copy files from Source to Destination\r\n",
        "import cv2                              # To flip images in data augmentation\r\n",
        "import matplotlib.pyplot as plt         # To save the images\r\n",
        "import matplotlib.image as mpimg\r\n",
        "import numpy as np\r\n",
        "import pandas as pd"
      ],
      "execution_count": null,
      "outputs": []
    },
    {
      "cell_type": "markdown",
      "metadata": {
        "id": "jQN2EculLXGC"
      },
      "source": [
        "# Image Enhancing."
      ]
    },
    {
      "cell_type": "code",
      "metadata": {
        "id": "AUdCVL16LWiA"
      },
      "source": [
        "import keras"
      ],
      "execution_count": null,
      "outputs": []
    },
    {
      "cell_type": "code",
      "metadata": {
        "id": "cLcp-iRqLdOw"
      },
      "source": [
        "model_path='../../'\r\n",
        "Image_enhancer_model = keras.models.load_model(model_path+'/Image_enhancer2.h5')"
      ],
      "execution_count": null,
      "outputs": []
    },
    {
      "cell_type": "code",
      "metadata": {
        "id": "6thonaOZLGw3"
      },
      "source": [
        "from PIL import Image\r\n",
        "import sys"
      ],
      "execution_count": null,
      "outputs": []
    },
    {
      "cell_type": "markdown",
      "metadata": {
        "id": "Re7Xuv_2L5zZ"
      },
      "source": [
        "- **parent_dir** : Destination for making new folder.\r\n",
        "- **destination** : Path for the new folder that we just created. Here our new enhanced images would get stored.\r\n",
        "- **train_path** : Path for training folder.\r\n",
        "- For this model the pixels dimensions for input is [460, 460]"
      ]
    },
    {
      "cell_type": "code",
      "metadata": {
        "id": "PlTSUYXjLG5x"
      },
      "source": [
        "new_folder_name='folder_name'\r\n",
        "os.mkdir(parent_dir+ new_folder_name)"
      ],
      "execution_count": null,
      "outputs": []
    },
    {
      "cell_type": "code",
      "metadata": {
        "id": "sEAz68HnLHCc"
      },
      "source": [
        "destination='/../..'\r\n",
        "count=1\r\n",
        "for filename in os.listdir(train_path):\r\n",
        "    img_path = train_path+'/'+filename\r\n",
        "    img = image.load_img(img_path, target_size=(460, 460))\r\n",
        "    img_array = image.img_to_array(img)\r\n",
        "    img_batch = np.expand_dims(img_array, axis=0)\r\n",
        "    predd_img=Image_enhancer_model.predict(img_batch)\r\n",
        "    predd_imgg=predd_img.reshape(460,460,3)\r\n",
        "    cv2.imwrite(os.path.join(destination , filename), predd_imgg)\r\n",
        "    print('{}.{} file enhanced and saved'.format(count,filename))\r\n",
        "    count=count+1"
      ],
      "execution_count": null,
      "outputs": []
    },
    {
      "cell_type": "code",
      "metadata": {
        "id": "gAS0KAyLLHJC"
      },
      "source": [
        ""
      ],
      "execution_count": null,
      "outputs": []
    },
    {
      "cell_type": "code",
      "metadata": {
        "id": "7kmIibi3LHSB"
      },
      "source": [
        ""
      ],
      "execution_count": null,
      "outputs": []
    },
    {
      "cell_type": "code",
      "metadata": {
        "id": "np9TAeTILHYp"
      },
      "source": [
        ""
      ],
      "execution_count": null,
      "outputs": []
    },
    {
      "cell_type": "code",
      "metadata": {
        "id": "b-G02xBHIGT_"
      },
      "source": [
        ""
      ],
      "execution_count": null,
      "outputs": []
    }
  ]
}