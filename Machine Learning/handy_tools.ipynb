{
  "nbformat": 4,
  "nbformat_minor": 0,
  "metadata": {
    "colab": {
      "name": "handy tools.ipynb",
      "provenance": [],
      "collapsed_sections": []
    },
    "kernelspec": {
      "name": "python3",
      "display_name": "Python 3"
    },
    "language_info": {
      "name": "python"
    }
  },
  "cells": [
    {
      "cell_type": "code",
      "metadata": {
        "id": "AEaxPHSozzrp"
      },
      "source": [
        "import numpy as np\n",
        "import pandas as pd"
      ],
      "execution_count": 1,
      "outputs": []
    },
    {
      "cell_type": "code",
      "metadata": {
        "id": "s_FTIEMG3YYt"
      },
      "source": [
        "def mapper(name,df,how): # Custom Function for Label encoding.\n",
        "  if how=='nums':\n",
        "    sam_dict={}\n",
        "    num=1\n",
        "    for loc in df[name].unique():\n",
        "      sam_dict.update([(loc,num)])\n",
        "      num=num+1\n",
        "    df[name]=df[name].map(sam_dict)\n",
        "\n",
        "  elif how=='proba':\n",
        "    unique_names=[]\n",
        "    for ind in df[name].value_counts().index:\n",
        "          unique_names.append(ind)\n",
        "    unique_values=[]\n",
        "    for val in df[name].value_counts():\n",
        "          unique_values.append(val)\n",
        "    total_sum=sum(unique_values)\n",
        "    new_unique_values = []\n",
        "    for vals in unique_values:\n",
        "      new_unique_values.append(vals/total_sum)\n",
        "    proba_dict = {unique_names[i]: new_unique_values[i] for i in range(len(unique_names))}\n",
        "    df[name]=df[name].map(proba_dict)"
      ],
      "execution_count": 2,
      "outputs": []
    },
    {
      "cell_type": "code",
      "metadata": {
        "id": "MgyqT_Z33cJF"
      },
      "source": [
        "for col in total_df.select_dtypes(include=['object']).columns:\n",
        "    mapper(col,total_df,'proba')"
      ],
      "execution_count": null,
      "outputs": []
    },
    {
      "cell_type": "code",
      "metadata": {
        "id": "oAJsWw8_3g0i"
      },
      "source": [
        ""
      ],
      "execution_count": null,
      "outputs": []
    },
    {
      "cell_type": "code",
      "metadata": {
        "id": "7u-1QEXD3hKS"
      },
      "source": [
        ""
      ],
      "execution_count": null,
      "outputs": []
    }
  ]
}