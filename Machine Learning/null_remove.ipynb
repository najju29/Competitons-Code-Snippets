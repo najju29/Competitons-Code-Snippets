{
  "nbformat": 4,
  "nbformat_minor": 0,
  "metadata": {
    "colab": {
      "name": "null remove.ipynb",
      "provenance": [],
      "collapsed_sections": []
    },
    "kernelspec": {
      "name": "python3",
      "display_name": "Python 3"
    }
  },
  "cells": [
    {
      "cell_type": "code",
      "metadata": {
        "id": "6IgadiOrENG4"
      },
      "source": [
        "def null_report(data):\r\n",
        "  a=list(data.columns)\r\n",
        "  b=[]\r\n",
        "  for i in a:\r\n",
        "      c=data[i].isnull().sum()\r\n",
        "      b.append(c)\r\n",
        "  null_df=pd.DataFrame({'Feature name':a,'no. of Nan':b})\r\n",
        "  n_rows=data.shape[0]\r\n",
        "  null_df['Percent_null']=null_df['no. of Nan'].apply(lambda x:x/n_rows)\r\n",
        "  return null_df"
      ],
      "execution_count": 1,
      "outputs": []
    },
    {
      "cell_type": "code",
      "metadata": {
        "id": "nxRALzNjOATm"
      },
      "source": [
        ""
      ],
      "execution_count": null,
      "outputs": []
    }
  ]
}