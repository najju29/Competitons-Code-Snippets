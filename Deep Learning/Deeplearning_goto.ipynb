{
  "nbformat": 4,
  "nbformat_minor": 0,
  "metadata": {
    "colab": {
      "name": "Deeplearning_goto.ipynb",
      "provenance": [],
      "collapsed_sections": [],
      "toc_visible": true
    },
    "kernelspec": {
      "name": "python3",
      "display_name": "Python 3"
    },
    "accelerator": "GPU"
  },
  "cells": [
    {
      "cell_type": "code",
      "metadata": {
        "id": "bZW1VOpgZ4Xy"
      },
      "source": [
        "import random                           # Generates random numbers\r\n",
        "import sys, os, glob, shutil                              # Create directories, list files\r\n",
        "from shutil import copyfile             # Copy files from Source to Destination\r\n",
        "import cv2                              # To flip images in data augmentation\r\n",
        "import matplotlib.pyplot as plt         # To save the images\r\n",
        "import matplotlib.image as mpimg\r\n",
        "import numpy as np\r\n",
        "import pandas as pd"
      ],
      "execution_count": null,
      "outputs": []
    },
    {
      "cell_type": "markdown",
      "metadata": {
        "id": "_2GOlmb1OA-m"
      },
      "source": [
        "# Installation and Importings"
      ]
    },
    {
      "cell_type": "code",
      "metadata": {
        "id": "GItONXzVN98Q",
        "colab": {
          "base_uri": "https://localhost:8080/",
          "height": 1000
        },
        "outputId": "244c8ea4-081d-411a-b87f-975f742e4ee2"
      },
      "source": [
        "!pip install tensorflow-gpu"
      ],
      "execution_count": null,
      "outputs": [
        {
          "output_type": "stream",
          "text": [
            "Collecting tensorflow-gpu\n",
            "\u001b[?25l  Downloading https://files.pythonhosted.org/packages/f1/aa/ae64be5acaac9055329289e6bfd54c1efa28bfe792f9021cea495fe2b89d/tensorflow_gpu-2.4.0-cp36-cp36m-manylinux2010_x86_64.whl (394.7MB)\n",
            "\u001b[K     |████████████████████████████████| 394.7MB 44kB/s \n",
            "\u001b[?25hRequirement already satisfied: astunparse~=1.6.3 in /usr/local/lib/python3.6/dist-packages (from tensorflow-gpu) (1.6.3)\n",
            "Collecting grpcio~=1.32.0\n",
            "\u001b[?25l  Downloading https://files.pythonhosted.org/packages/f0/00/b393f5d0e92b37592a41357ea3077010c95400c907f6b9af01f4f6abe140/grpcio-1.32.0-cp36-cp36m-manylinux2014_x86_64.whl (3.8MB)\n",
            "\u001b[K     |████████████████████████████████| 3.8MB 53.4MB/s \n",
            "\u001b[?25hRequirement already satisfied: opt-einsum~=3.3.0 in /usr/local/lib/python3.6/dist-packages (from tensorflow-gpu) (3.3.0)\n",
            "Requirement already satisfied: flatbuffers~=1.12.0 in /usr/local/lib/python3.6/dist-packages (from tensorflow-gpu) (1.12)\n",
            "Requirement already satisfied: wrapt~=1.12.1 in /usr/local/lib/python3.6/dist-packages (from tensorflow-gpu) (1.12.1)\n",
            "Collecting tensorboard~=2.4\n",
            "\u001b[?25l  Downloading https://files.pythonhosted.org/packages/02/83/179c8f76e5716030cc3ee9433721161cfcc1d854e9ba20c9205180bb100a/tensorboard-2.4.0-py3-none-any.whl (10.6MB)\n",
            "\u001b[K     |████████████████████████████████| 10.6MB 50.9MB/s \n",
            "\u001b[?25hRequirement already satisfied: protobuf>=3.9.2 in /usr/local/lib/python3.6/dist-packages (from tensorflow-gpu) (3.12.4)\n",
            "Requirement already satisfied: absl-py~=0.10 in /usr/local/lib/python3.6/dist-packages (from tensorflow-gpu) (0.10.0)\n",
            "Requirement already satisfied: google-pasta~=0.2 in /usr/local/lib/python3.6/dist-packages (from tensorflow-gpu) (0.2.0)\n",
            "Requirement already satisfied: termcolor~=1.1.0 in /usr/local/lib/python3.6/dist-packages (from tensorflow-gpu) (1.1.0)\n",
            "Requirement already satisfied: typing-extensions~=3.7.4 in /usr/local/lib/python3.6/dist-packages (from tensorflow-gpu) (3.7.4.3)\n",
            "Requirement already satisfied: wheel~=0.35 in /usr/local/lib/python3.6/dist-packages (from tensorflow-gpu) (0.36.1)\n",
            "Collecting numpy~=1.19.2\n",
            "\u001b[?25l  Downloading https://files.pythonhosted.org/packages/87/86/753182c9085ba4936c0076269a571613387cdb77ae2bf537448bfd63472c/numpy-1.19.4-cp36-cp36m-manylinux2010_x86_64.whl (14.5MB)\n",
            "\u001b[K     |████████████████████████████████| 14.5MB 256kB/s \n",
            "\u001b[?25hRequirement already satisfied: gast==0.3.3 in /usr/local/lib/python3.6/dist-packages (from tensorflow-gpu) (0.3.3)\n",
            "Collecting tensorflow-estimator<2.5.0,>=2.4.0rc0\n",
            "\u001b[?25l  Downloading https://files.pythonhosted.org/packages/74/7e/622d9849abf3afb81e482ffc170758742e392ee129ce1540611199a59237/tensorflow_estimator-2.4.0-py2.py3-none-any.whl (462kB)\n",
            "\u001b[K     |████████████████████████████████| 471kB 56.6MB/s \n",
            "\u001b[?25hRequirement already satisfied: keras-preprocessing~=1.1.2 in /usr/local/lib/python3.6/dist-packages (from tensorflow-gpu) (1.1.2)\n",
            "Requirement already satisfied: six~=1.15.0 in /usr/local/lib/python3.6/dist-packages (from tensorflow-gpu) (1.15.0)\n",
            "Requirement already satisfied: h5py~=2.10.0 in /usr/local/lib/python3.6/dist-packages (from tensorflow-gpu) (2.10.0)\n",
            "Requirement already satisfied: google-auth-oauthlib<0.5,>=0.4.1 in /usr/local/lib/python3.6/dist-packages (from tensorboard~=2.4->tensorflow-gpu) (0.4.2)\n",
            "Requirement already satisfied: google-auth<2,>=1.6.3 in /usr/local/lib/python3.6/dist-packages (from tensorboard~=2.4->tensorflow-gpu) (1.17.2)\n",
            "Requirement already satisfied: werkzeug>=0.11.15 in /usr/local/lib/python3.6/dist-packages (from tensorboard~=2.4->tensorflow-gpu) (1.0.1)\n",
            "Requirement already satisfied: tensorboard-plugin-wit>=1.6.0 in /usr/local/lib/python3.6/dist-packages (from tensorboard~=2.4->tensorflow-gpu) (1.7.0)\n",
            "Requirement already satisfied: markdown>=2.6.8 in /usr/local/lib/python3.6/dist-packages (from tensorboard~=2.4->tensorflow-gpu) (3.3.3)\n",
            "Requirement already satisfied: setuptools>=41.0.0 in /usr/local/lib/python3.6/dist-packages (from tensorboard~=2.4->tensorflow-gpu) (50.3.2)\n",
            "Requirement already satisfied: requests<3,>=2.21.0 in /usr/local/lib/python3.6/dist-packages (from tensorboard~=2.4->tensorflow-gpu) (2.23.0)\n",
            "Requirement already satisfied: requests-oauthlib>=0.7.0 in /usr/local/lib/python3.6/dist-packages (from google-auth-oauthlib<0.5,>=0.4.1->tensorboard~=2.4->tensorflow-gpu) (1.3.0)\n",
            "Requirement already satisfied: pyasn1-modules>=0.2.1 in /usr/local/lib/python3.6/dist-packages (from google-auth<2,>=1.6.3->tensorboard~=2.4->tensorflow-gpu) (0.2.8)\n",
            "Requirement already satisfied: cachetools<5.0,>=2.0.0 in /usr/local/lib/python3.6/dist-packages (from google-auth<2,>=1.6.3->tensorboard~=2.4->tensorflow-gpu) (4.1.1)\n",
            "Requirement already satisfied: rsa<5,>=3.1.4; python_version >= \"3\" in /usr/local/lib/python3.6/dist-packages (from google-auth<2,>=1.6.3->tensorboard~=2.4->tensorflow-gpu) (4.6)\n",
            "Requirement already satisfied: importlib-metadata; python_version < \"3.8\" in /usr/local/lib/python3.6/dist-packages (from markdown>=2.6.8->tensorboard~=2.4->tensorflow-gpu) (3.1.1)\n",
            "Requirement already satisfied: chardet<4,>=3.0.2 in /usr/local/lib/python3.6/dist-packages (from requests<3,>=2.21.0->tensorboard~=2.4->tensorflow-gpu) (3.0.4)\n",
            "Requirement already satisfied: idna<3,>=2.5 in /usr/local/lib/python3.6/dist-packages (from requests<3,>=2.21.0->tensorboard~=2.4->tensorflow-gpu) (2.10)\n",
            "Requirement already satisfied: urllib3!=1.25.0,!=1.25.1,<1.26,>=1.21.1 in /usr/local/lib/python3.6/dist-packages (from requests<3,>=2.21.0->tensorboard~=2.4->tensorflow-gpu) (1.24.3)\n",
            "Requirement already satisfied: certifi>=2017.4.17 in /usr/local/lib/python3.6/dist-packages (from requests<3,>=2.21.0->tensorboard~=2.4->tensorflow-gpu) (2020.12.5)\n",
            "Requirement already satisfied: oauthlib>=3.0.0 in /usr/local/lib/python3.6/dist-packages (from requests-oauthlib>=0.7.0->google-auth-oauthlib<0.5,>=0.4.1->tensorboard~=2.4->tensorflow-gpu) (3.1.0)\n",
            "Requirement already satisfied: pyasn1<0.5.0,>=0.4.6 in /usr/local/lib/python3.6/dist-packages (from pyasn1-modules>=0.2.1->google-auth<2,>=1.6.3->tensorboard~=2.4->tensorflow-gpu) (0.4.8)\n",
            "Requirement already satisfied: zipp>=0.5 in /usr/local/lib/python3.6/dist-packages (from importlib-metadata; python_version < \"3.8\"->markdown>=2.6.8->tensorboard~=2.4->tensorflow-gpu) (3.4.0)\n",
            "\u001b[31mERROR: tensorflow 2.3.0 has requirement numpy<1.19.0,>=1.16.0, but you'll have numpy 1.19.4 which is incompatible.\u001b[0m\n",
            "\u001b[31mERROR: tensorflow 2.3.0 has requirement tensorflow-estimator<2.4.0,>=2.3.0, but you'll have tensorflow-estimator 2.4.0 which is incompatible.\u001b[0m\n",
            "\u001b[31mERROR: datascience 0.10.6 has requirement folium==0.2.1, but you'll have folium 0.8.3 which is incompatible.\u001b[0m\n",
            "\u001b[31mERROR: albumentations 0.1.12 has requirement imgaug<0.2.7,>=0.2.5, but you'll have imgaug 0.2.9 which is incompatible.\u001b[0m\n",
            "Installing collected packages: grpcio, numpy, tensorboard, tensorflow-estimator, tensorflow-gpu\n",
            "  Found existing installation: grpcio 1.34.0\n",
            "    Uninstalling grpcio-1.34.0:\n",
            "      Successfully uninstalled grpcio-1.34.0\n",
            "  Found existing installation: numpy 1.18.5\n",
            "    Uninstalling numpy-1.18.5:\n",
            "      Successfully uninstalled numpy-1.18.5\n",
            "  Found existing installation: tensorboard 2.3.0\n",
            "    Uninstalling tensorboard-2.3.0:\n",
            "      Successfully uninstalled tensorboard-2.3.0\n",
            "  Found existing installation: tensorflow-estimator 2.3.0\n",
            "    Uninstalling tensorflow-estimator-2.3.0:\n",
            "      Successfully uninstalled tensorflow-estimator-2.3.0\n",
            "Successfully installed grpcio-1.32.0 numpy-1.19.4 tensorboard-2.4.0 tensorflow-estimator-2.4.0 tensorflow-gpu-2.4.0\n"
          ],
          "name": "stdout"
        },
        {
          "output_type": "display_data",
          "data": {
            "application/vnd.colab-display-data+json": {
              "pip_warning": {
                "packages": [
                  "numpy"
                ]
              }
            }
          },
          "metadata": {
            "tags": []
          }
        }
      ]
    },
    {
      "cell_type": "code",
      "metadata": {
        "id": "kh3P0fkxN9-n"
      },
      "source": [
        "from tensorflow.keras.layers import Input, Lambda, Dense, Flatten\r\n",
        "from tensorflow.keras.models import Model\r\n",
        "from tensorflow.keras.applications.inception_v3 import InceptionV3, preprocess_input\r\n",
        "from tensorflow.keras.applications import InceptionResNetV2\r\n",
        "from tensorflow.keras.applications.resnet50 import ResNet50, preprocess_input\r\n",
        "from tensorflow.keras.applications.vgg16 import VGG16, preprocess_input\r\n",
        "from tensorflow.keras.applications.efficientnet import EfficientNetB5, preprocess_input\r\n",
        "from tensorflow.keras.preprocessing import image\r\n",
        "from tensorflow.keras.preprocessing.image import ImageDataGenerator,load_img\r\n",
        "from tensorflow.keras.models import Sequential\r\n",
        "from sklearn.model_selection import KFold, StratifiedKFold\r\n",
        "import numpy as np\r\n",
        "from glob import glob\r\n",
        "import matplotlib.pyplot as plt\r\n",
        "from sklearn.model_selection import train_test_split\r\n",
        "np.random.seed(0)"
      ],
      "execution_count": null,
      "outputs": []
    },
    {
      "cell_type": "code",
      "metadata": {
        "id": "yikboRaIb3_p"
      },
      "source": [
        "train_data=pd.read_csv('/content/drive/MyDrive/Hacker earth competitions/Identify Snake breeds/DataSet/train.csv')\r\n",
        "test_data=pd.read_csv('/content/drive/MyDrive/Hacker earth competitions/Identify Snake breeds/DataSet/test.csv')\r\n",
        "train_path = '/content/drive/MyDrive/Hacker earth competitions/Identify Snake breeds/DataSet/train'\r\n",
        "test_path='/content/drive/MyDrive/Hacker earth competitions/Identify Snake breeds/DataSet/test'\r\n",
        "new_train='/content/drive/MyDrive/Hacker earth competitions/Identify Snake breeds/DataSet/New train'"
      ],
      "execution_count": null,
      "outputs": []
    },
    {
      "cell_type": "markdown",
      "metadata": {
        "id": "7LkrM42vNtLB"
      },
      "source": [
        "# Image Preprocessing"
      ]
    },
    {
      "cell_type": "code",
      "metadata": {
        "colab": {
          "base_uri": "https://localhost:8080/",
          "height": 195
        },
        "id": "YRsLhiIRecl0",
        "outputId": "6e77beeb-f216-4477-853d-39e413ec542a"
      },
      "source": [
        "train_data.head()"
      ],
      "execution_count": null,
      "outputs": [
        {
          "output_type": "execute_result",
          "data": {
            "text/html": [
              "<div>\n",
              "<style scoped>\n",
              "    .dataframe tbody tr th:only-of-type {\n",
              "        vertical-align: middle;\n",
              "    }\n",
              "\n",
              "    .dataframe tbody tr th {\n",
              "        vertical-align: top;\n",
              "    }\n",
              "\n",
              "    .dataframe thead th {\n",
              "        text-align: right;\n",
              "    }\n",
              "</style>\n",
              "<table border=\"1\" class=\"dataframe\">\n",
              "  <thead>\n",
              "    <tr style=\"text-align: right;\">\n",
              "      <th></th>\n",
              "      <th>image_id</th>\n",
              "      <th>breed</th>\n",
              "    </tr>\n",
              "  </thead>\n",
              "  <tbody>\n",
              "    <tr>\n",
              "      <th>0</th>\n",
              "      <td>a8b3ad1dde</td>\n",
              "      <td>nerodia-erythrogaster</td>\n",
              "    </tr>\n",
              "    <tr>\n",
              "      <th>1</th>\n",
              "      <td>8b492b973d</td>\n",
              "      <td>pantherophis-vulpinus</td>\n",
              "    </tr>\n",
              "    <tr>\n",
              "      <th>2</th>\n",
              "      <td>929b99ea92</td>\n",
              "      <td>thamnophis-sirtalis</td>\n",
              "    </tr>\n",
              "    <tr>\n",
              "      <th>3</th>\n",
              "      <td>bbac7385e2</td>\n",
              "      <td>pantherophis-obsoletus</td>\n",
              "    </tr>\n",
              "    <tr>\n",
              "      <th>4</th>\n",
              "      <td>ef776b1488</td>\n",
              "      <td>agkistrodon-contortrix</td>\n",
              "    </tr>\n",
              "  </tbody>\n",
              "</table>\n",
              "</div>"
            ],
            "text/plain": [
              "     image_id                   breed\n",
              "0  a8b3ad1dde   nerodia-erythrogaster\n",
              "1  8b492b973d   pantherophis-vulpinus\n",
              "2  929b99ea92     thamnophis-sirtalis\n",
              "3  bbac7385e2  pantherophis-obsoletus\n",
              "4  ef776b1488  agkistrodon-contortrix"
            ]
          },
          "metadata": {
            "tags": []
          },
          "execution_count": 57
        }
      ]
    },
    {
      "cell_type": "code",
      "metadata": {
        "id": "Qj-_tRQ5gz1K"
      },
      "source": [
        "train_data['imag_id']=train_data['image_id'].apply(lambda x: x+'.jpg')"
      ],
      "execution_count": null,
      "outputs": []
    },
    {
      "cell_type": "code",
      "metadata": {
        "id": "10DXamtTOTUS"
      },
      "source": [
        "test_data['imag_id']=test_data['image_id'].apply(lambda x: x+'.jpg')"
      ],
      "execution_count": null,
      "outputs": []
    },
    {
      "cell_type": "code",
      "metadata": {
        "id": "QNgAwK4lb33x"
      },
      "source": [
        "Y=train_data['breed']"
      ],
      "execution_count": null,
      "outputs": []
    },
    {
      "cell_type": "code",
      "metadata": {
        "id": "kgDB7lH5b3wz"
      },
      "source": [
        "X_train, X_valid= train_test_split(train_data, test_size=0.15, random_state=550)"
      ],
      "execution_count": null,
      "outputs": []
    },
    {
      "cell_type": "code",
      "metadata": {
        "id": "mRDwkZjrb3tL"
      },
      "source": [
        "idg = ImageDataGenerator(rescale=1./255)"
      ],
      "execution_count": null,
      "outputs": []
    },
    {
      "cell_type": "code",
      "metadata": {
        "id": "jlF7dRXWOCM4"
      },
      "source": [
        "test_datagen = ImageDataGenerator(rescale=1./255,)"
      ],
      "execution_count": null,
      "outputs": []
    },
    {
      "cell_type": "code",
      "metadata": {
        "id": "pHBIpKRnmeUc"
      },
      "source": [
        "pix1=360\r\n",
        "pix2=360"
      ],
      "execution_count": null,
      "outputs": []
    },
    {
      "cell_type": "code",
      "metadata": {
        "colab": {
          "base_uri": "https://localhost:8080/"
        },
        "id": "I7Al56YvcKES",
        "outputId": "f9593d6e-43b4-49d9-80f2-fc8bc28199a7"
      },
      "source": [
        "train_data_generator = idg.flow_from_dataframe(X_train,\r\n",
        "                                               target_size=(pix1,pix2),\r\n",
        "                                               directory = new_train,\r\n",
        "                                               x_col = \"imag_id\",\r\n",
        "                                               y_col = \"breed\",\r\n",
        "                                               class_mode = \"categorical\",\r\n",
        "                                               shuffle = True)"
      ],
      "execution_count": null,
      "outputs": [
        {
          "output_type": "stream",
          "text": [
            "Found 4628 validated image filenames belonging to 35 classes.\n"
          ],
          "name": "stdout"
        },
        {
          "output_type": "stream",
          "text": [
            "/usr/local/lib/python3.6/dist-packages/keras_preprocessing/image/dataframe_iterator.py:282: UserWarning: Found 53 invalid image filename(s) in x_col=\"imag_id\". These filename(s) will be ignored.\n",
            "  .format(n_invalid, x_col)\n"
          ],
          "name": "stderr"
        }
      ]
    },
    {
      "cell_type": "code",
      "metadata": {
        "colab": {
          "base_uri": "https://localhost:8080/"
        },
        "id": "jz_hH14Rh_JA",
        "outputId": "bf51ffef-9e57-4df8-df83-b64b9ad37302"
      },
      "source": [
        "valid_data_generator  = idg.flow_from_dataframe(X_valid,\r\n",
        "                                                target_size=(pix1,pix2),\r\n",
        "                                                directory = new_train,\r\n",
        "                                                x_col = \"imag_id\",\r\n",
        "                                                y_col = \"breed\",\r\n",
        "                                                class_mode = \"categorical\",\r\n",
        "                                                shuffle = True)"
      ],
      "execution_count": null,
      "outputs": [
        {
          "output_type": "stream",
          "text": [
            "Found 814 validated image filenames belonging to 35 classes.\n"
          ],
          "name": "stdout"
        },
        {
          "output_type": "stream",
          "text": [
            "/usr/local/lib/python3.6/dist-packages/keras_preprocessing/image/dataframe_iterator.py:282: UserWarning: Found 13 invalid image filename(s) in x_col=\"imag_id\". These filename(s) will be ignored.\n",
            "  .format(n_invalid, x_col)\n"
          ],
          "name": "stderr"
        }
      ]
    },
    {
      "cell_type": "code",
      "metadata": {
        "id": "840oejSvOuI7",
        "colab": {
          "base_uri": "https://localhost:8080/"
        },
        "outputId": "968a241a-d508-4822-f986-903fd4febdd8"
      },
      "source": [
        "test_generator=test_datagen.flow_from_dataframe(dataframe=test_data,\n",
        "                                            target_size=(pix1,pix2),\n",
        "                                            directory='../input/hackerearth-deep-learning-identify-the-snake-breed/dataset/test',\n",
        "                                            x_col=\"imag_id\",\n",
        "                                            y_col=None,\n",
        "                                            shuffle=False,\n",
        "                                            class_mode=None\n",
        "                                            )"
      ],
      "execution_count": null,
      "outputs": [
        {
          "output_type": "stream",
          "text": [
            "Found 0 validated image filenames.\n"
          ],
          "name": "stdout"
        },
        {
          "output_type": "stream",
          "text": [
            "/usr/local/lib/python3.6/dist-packages/keras_preprocessing/image/dataframe_iterator.py:282: UserWarning: Found 2361 invalid image filename(s) in x_col=\"imag_id\". These filename(s) will be ignored.\n",
            "  .format(n_invalid, x_col)\n"
          ],
          "name": "stderr"
        }
      ]
    },
    {
      "cell_type": "markdown",
      "metadata": {
        "id": "haQLZyavjymt"
      },
      "source": [
        "# Metrics"
      ]
    },
    {
      "cell_type": "code",
      "metadata": {
        "id": "qKeLRs-HiqA6"
      },
      "source": [
        "#acne_model.summary()\n",
        "from keras import backend as K\n",
        " \n",
        "def f1_weighted(true, pred): #shapes (batch, 4)\n",
        " \n",
        "    #for metrics include these two lines, for loss, don't include them\n",
        "    #these are meant to round 'pred' to exactly zeros and ones\n",
        "    #predLabels = K.argmax(pred, axis=-1)\n",
        "    #pred = K.one_hot(predLabels, 4) \n",
        " \n",
        " \n",
        "    ground_positives = K.sum(true, axis=0)       # = TP + FN\n",
        "    pred_positives = K.sum(pred, axis=0)         # = TP + FP\n",
        "    true_positives = K.sum(true * pred, axis=0)  # = TP\n",
        "        #all with shape (4,)\n",
        " \n",
        "    precision = (true_positives + K.epsilon()) / (pred_positives + K.epsilon()) \n",
        "    recall = (true_positives + K.epsilon()) / (ground_positives + K.epsilon()) \n",
        "        #both = 1 if ground_positives == 0 or pred_positives == 0\n",
        "        #shape (4,)\n",
        " \n",
        "    f1 = 2 * (precision * recall) / (precision + recall + K.epsilon())\n",
        "        #not sure if this last epsilon is necessary\n",
        "        #matematically not, but maybe to avoid computational instability\n",
        "        #still with shape (4,)\n",
        " \n",
        "    weighted_f1 = f1 * ground_positives / K.sum(ground_positives)\n",
        "    weighted_f1 = K.sum(weighted_f1)\n",
        "    return 100*weighted_f1"
      ],
      "execution_count": null,
      "outputs": []
    },
    {
      "cell_type": "code",
      "metadata": {
        "id": "c14b0iUDhk0O"
      },
      "source": [
        ""
      ],
      "execution_count": null,
      "outputs": []
    },
    {
      "cell_type": "markdown",
      "metadata": {
        "id": "gqYTd_OgivGq"
      },
      "source": [
        "# inceptionV3"
      ]
    },
    {
      "cell_type": "code",
      "metadata": {
        "id": "rWcsNLWqip53",
        "colab": {
          "base_uri": "https://localhost:8080/"
        },
        "outputId": "e058530d-d08a-4d01-8f6d-d0f7ae6c7566"
      },
      "source": [
        "inception_model = InceptionV3(input_shape=[128,128,3], weights='imagenet', include_top=False)"
      ],
      "execution_count": null,
      "outputs": [
        {
          "output_type": "stream",
          "text": [
            "Downloading data from https://storage.googleapis.com/tensorflow/keras-applications/inception_v3/inception_v3_weights_tf_dim_ordering_tf_kernels_notop.h5\n",
            "87916544/87910968 [==============================] - 1s 0us/step\n"
          ],
          "name": "stdout"
        }
      ]
    },
    {
      "cell_type": "code",
      "metadata": {
        "id": "NumSKv5Vipyu"
      },
      "source": [
        "for each_layer in inception_model.layers:\r\n",
        "    each_layer.trainable = False"
      ],
      "execution_count": null,
      "outputs": []
    },
    {
      "cell_type": "code",
      "metadata": {
        "id": "ifGUna5KipsY"
      },
      "source": [
        "x = Flatten()(inception_model.output)"
      ],
      "execution_count": null,
      "outputs": []
    },
    {
      "cell_type": "code",
      "metadata": {
        "id": "618Bh4qyipiv"
      },
      "source": [
        "custom_final_layer = Dense(units=35, activation='softmax')(x)\r\n",
        "\r\n",
        "acne_model = Model(inputs=inception_model.input, outputs=custom_final_layer)"
      ],
      "execution_count": null,
      "outputs": []
    },
    {
      "cell_type": "code",
      "metadata": {
        "id": "E9GkIvFdi6Pp"
      },
      "source": [
        "acne_model.compile(loss='categorical_crossentropy',optimizer='adam',metrics=['accuracy',f1_m])"
      ],
      "execution_count": null,
      "outputs": []
    },
    {
      "cell_type": "code",
      "metadata": {
        "colab": {
          "base_uri": "https://localhost:8080/"
        },
        "id": "lWkI1mh-cKLI",
        "outputId": "a8df010e-2098-4aa6-e3b0-949d4be83156"
      },
      "source": [
        "history_saved = acne_model.fit(\r\n",
        "  train_data_generator,\r\n",
        "  validation_data=valid_data_generator,\r\n",
        "  epochs=10,\r\n",
        ")"
      ],
      "execution_count": null,
      "outputs": [
        {
          "output_type": "stream",
          "text": [
            "Epoch 1/10\n",
            "119/119 [==============================] - ETA: 0s - loss: 7.1228 - accuracy: 0.0914 - f1_m: 7.7856 "
          ],
          "name": "stdout"
        }
      ]
    },
    {
      "cell_type": "code",
      "metadata": {
        "id": "Z5k0dW_fQ08E"
      },
      "source": [
        "icpv3_preds=acne_model.predict_generator(test_generator,verbose=1)"
      ],
      "execution_count": null,
      "outputs": []
    },
    {
      "cell_type": "code",
      "metadata": {
        "id": "eQ4mLKZeQPBv"
      },
      "source": [
        "def sub_file_return(preds):\r\n",
        "  sub_preds=np.argmax(preds,axis=1)\r\n",
        "  labels = (train_data_generator.class_indices)\r\n",
        "  labels = dict((v,k) for k,v in labels.items())\r\n",
        "  predictions = [labels[k] for k in sub_preds]\r\n",
        "  test_name=test_data['image_id'].values\r\n",
        "  data_pred=pd.DataFrame((zip(test_name,predictions)),columns=['image_id','breed'])\r\n",
        "  return data_pred"
      ],
      "execution_count": null,
      "outputs": []
    },
    {
      "cell_type": "code",
      "metadata": {
        "id": "fcCn0fKiQA7m"
      },
      "source": [
        ""
      ],
      "execution_count": null,
      "outputs": []
    },
    {
      "cell_type": "code",
      "metadata": {
        "id": "ptvpXxHdkDx1"
      },
      "source": [
        ""
      ],
      "execution_count": null,
      "outputs": []
    },
    {
      "cell_type": "markdown",
      "metadata": {
        "id": "8SeKqX2PkHQF"
      },
      "source": [
        "# InceptionResNetV2"
      ]
    },
    {
      "cell_type": "code",
      "metadata": {
        "id": "em0C3CIvkD00",
        "colab": {
          "base_uri": "https://localhost:8080/"
        },
        "outputId": "54886419-5ffd-462f-fbf6-785484487fd2"
      },
      "source": [
        "inceptionresnet_model = InceptionResNetV2(input_shape=[360,360,3], weights='imagenet', include_top=False)"
      ],
      "execution_count": null,
      "outputs": [
        {
          "output_type": "stream",
          "text": [
            "Downloading data from https://storage.googleapis.com/tensorflow/keras-applications/inception_resnet_v2/inception_resnet_v2_weights_tf_dim_ordering_tf_kernels_notop.h5\n",
            "219062272/219055592 [==============================] - 2s 0us/step\n"
          ],
          "name": "stdout"
        }
      ]
    },
    {
      "cell_type": "code",
      "metadata": {
        "id": "G_yKTZewkD-h"
      },
      "source": [
        "for each_layer in inceptionresnet_model.layers:\r\n",
        "    each_layer.trainable = False"
      ],
      "execution_count": null,
      "outputs": []
    },
    {
      "cell_type": "code",
      "metadata": {
        "id": "yg9_xi-RkEFt"
      },
      "source": [
        "incep_resnet_x = Flatten()(inceptionresnet_model.output)"
      ],
      "execution_count": null,
      "outputs": []
    },
    {
      "cell_type": "code",
      "metadata": {
        "id": "yCMxfre_kEMC"
      },
      "source": [
        "custom_final_layer_incepresnet = Dense(units=35, activation='softmax')(incep_resnet_x)\n",
        " \n",
        "incep_resnet_model = Model(inputs=inceptionresnet_model.input, outputs=custom_final_layer_incepresnet)"
      ],
      "execution_count": null,
      "outputs": []
    },
    {
      "cell_type": "code",
      "metadata": {
        "id": "c_YXYUdfkESm"
      },
      "source": [
        "incep_resnet_model.compile(loss='categorical_crossentropy',optimizer='adam',metrics=['accuracy',f1_weighted])"
      ],
      "execution_count": null,
      "outputs": []
    },
    {
      "cell_type": "code",
      "metadata": {
        "id": "RQFUdu9fkEY_",
        "colab": {
          "base_uri": "https://localhost:8080/"
        },
        "outputId": "b8e7517a-0abd-4a3f-91de-ca0b9cdfd059"
      },
      "source": [
        "history_saved_incep_resnet = incep_resnet_model.fit_generator(\r\n",
        "  train_data_generator,\r\n",
        "  validation_data=valid_data_generator,\r\n",
        "  epochs=8\r\n",
        ")"
      ],
      "execution_count": null,
      "outputs": [
        {
          "output_type": "stream",
          "text": [
            "/usr/local/lib/python3.6/dist-packages/tensorflow/python/keras/engine/training.py:1844: UserWarning: `Model.fit_generator` is deprecated and will be removed in a future version. Please use `Model.fit`, which supports generators.\n",
            "  warnings.warn('`Model.fit_generator` is deprecated and '\n"
          ],
          "name": "stderr"
        },
        {
          "output_type": "stream",
          "text": [
            "Epoch 1/8\n",
            "145/145 [==============================] - 2942s 20s/step - loss: 22.9462 - accuracy: 0.1132 - f1_weighted: 9.9520 - val_loss: 18.1530 - val_accuracy: 0.1560 - val_f1_weighted: 14.7114\n",
            "Epoch 2/8\n",
            "145/145 [==============================] - 2791s 19s/step - loss: 4.1830 - accuracy: 0.6361 - f1_weighted: 62.8886 - val_loss: 19.1436 - val_accuracy: 0.1609 - val_f1_weighted: 14.8362\n",
            "Epoch 3/8\n"
          ],
          "name": "stdout"
        }
      ]
    },
    {
      "cell_type": "code",
      "metadata": {
        "id": "FxRhpT4TkEfb"
      },
      "source": [
        ""
      ],
      "execution_count": null,
      "outputs": []
    },
    {
      "cell_type": "markdown",
      "metadata": {
        "id": "Xk-v6C-6kqO1"
      },
      "source": [
        ""
      ]
    },
    {
      "cell_type": "code",
      "metadata": {
        "id": "WUvHdDMpkEmL"
      },
      "source": [
        ""
      ],
      "execution_count": null,
      "outputs": []
    },
    {
      "cell_type": "code",
      "metadata": {
        "id": "GX-HqTv_kEtw"
      },
      "source": [
        ""
      ],
      "execution_count": null,
      "outputs": []
    },
    {
      "cell_type": "code",
      "metadata": {
        "id": "2nozilewkE12"
      },
      "source": [
        ""
      ],
      "execution_count": null,
      "outputs": []
    },
    {
      "cell_type": "code",
      "metadata": {
        "id": "D3YmhSjpkE9E"
      },
      "source": [
        ""
      ],
      "execution_count": null,
      "outputs": []
    },
    {
      "cell_type": "code",
      "metadata": {
        "id": "JHhneNQVkFD-"
      },
      "source": [
        ""
      ],
      "execution_count": null,
      "outputs": []
    },
    {
      "cell_type": "code",
      "metadata": {
        "id": "pIMIbpFWkFKz"
      },
      "source": [
        ""
      ],
      "execution_count": null,
      "outputs": []
    },
    {
      "cell_type": "code",
      "metadata": {
        "id": "NYUVgLWGkFRw"
      },
      "source": [
        ""
      ],
      "execution_count": null,
      "outputs": []
    },
    {
      "cell_type": "code",
      "metadata": {
        "id": "uFduCXaokFYr"
      },
      "source": [
        ""
      ],
      "execution_count": null,
      "outputs": []
    }
  ]
}